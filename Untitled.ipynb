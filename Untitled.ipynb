{
 "cells": [
  {
   "cell_type": "code",
   "execution_count": 5,
   "id": "2f814bc5",
   "metadata": {},
   "outputs": [
    {
     "name": "stdout",
     "output_type": "stream",
     "text": [
      "hello world\n",
      "saya sedang belajar dengan phyton\n",
      "menggunakan anakConda\n",
      "menggunakan anakConda\n",
      "selamat belajar gess❤👌\n"
     ]
    }
   ],
   "source": [
    "print('hello world')\n",
    "print('saya sedang belajar dengan phyton')\n",
    "print('menggunakan anakConda')\n",
    "print('menggunakan anakConda')\n",
    "print('selamat belajar gess❤👌')"
   ]
  },
  {
   "cell_type": "code",
   "execution_count": 6,
   "id": "33fb8e3d",
   "metadata": {},
   "outputs": [
    {
     "ename": "SyntaxError",
     "evalue": "invalid syntax (318907094.py, line 1)",
     "output_type": "error",
     "traceback": [
      "\u001b[1;36m  Input \u001b[1;32mIn [6]\u001b[1;36m\u001b[0m\n\u001b[1;33m    def greeting('bangkit'):\u001b[0m\n\u001b[1;37m                 ^\u001b[0m\n\u001b[1;31mSyntaxError\u001b[0m\u001b[1;31m:\u001b[0m invalid syntax\n"
     ]
    }
   ],
   "source": [
    "def greeting('bangkit'):\n",
    "    return 'hello, ' + 'bangkit'\n",
    "print (greeting('bangkit'))"
   ]
  },
  {
   "cell_type": "code",
   "execution_count": 7,
   "id": "abfcb494",
   "metadata": {},
   "outputs": [
    {
     "name": "stdout",
     "output_type": "stream",
     "text": [
      "True\n"
     ]
    }
   ],
   "source": [
    "print(1<10)"
   ]
  },
  {
   "cell_type": "code",
   "execution_count": 8,
   "id": "e9820e27",
   "metadata": {},
   "outputs": [
    {
     "name": "stdout",
     "output_type": "stream",
     "text": [
      "False\n"
     ]
    }
   ],
   "source": [
    "print(\"Linux\" == \"windows\")"
   ]
  },
  {
   "cell_type": "code",
   "execution_count": 10,
   "id": "d6aeac67",
   "metadata": {},
   "outputs": [],
   "source": [
    "def check(str):\n",
    "    if str > 0:\n",
    "        return \"positive\"\n",
    "    elif str == 0:\n",
    "        return \"zero\"\n",
    "    else:\n",
    "        return \"negative\""
   ]
  },
  {
   "cell_type": "code",
   "execution_count": 13,
   "id": "b045de89",
   "metadata": {},
   "outputs": [
    {
     "ename": "NameError",
     "evalue": "name 'x' is not defined",
     "output_type": "error",
     "traceback": [
      "\u001b[1;31m---------------------------------------------------------------------------\u001b[0m",
      "\u001b[1;31mNameError\u001b[0m                                 Traceback (most recent call last)",
      "Input \u001b[1;32mIn [13]\u001b[0m, in \u001b[0;36m<cell line: 1>\u001b[1;34m()\u001b[0m\n\u001b[1;32m----> 1\u001b[0m \u001b[38;5;28;01mwhile\u001b[39;00m \u001b[43mx\u001b[49m \u001b[38;5;241m>\u001b[39m \u001b[38;5;241m0\u001b[39m:\n\u001b[0;32m      2\u001b[0m     \u001b[38;5;28mprint\u001b[39m(\u001b[38;5;124m\"\u001b[39m\u001b[38;5;124mpositive x=\u001b[39m\u001b[38;5;124m\"\u001b[39m \u001b[38;5;241m+\u001b[39m \u001b[38;5;28mstr\u001b[39m(x))\n\u001b[0;32m      3\u001b[0m     x \u001b[38;5;241m=\u001b[39m x \u001b[38;5;241m-\u001b[39m \u001b[38;5;241m1\u001b[39m\n",
      "\u001b[1;31mNameError\u001b[0m: name 'x' is not defined"
     ]
    }
   ],
   "source": [
    "while x > 0:\n",
    "    print(\"positive x=\" + str(x))\n",
    "    x = x - 1\n",
    "\n",
    "print(\"now x=\" + str(x))"
   ]
  },
  {
   "cell_type": "code",
   "execution_count": 14,
   "id": "bd8b2509",
   "metadata": {},
   "outputs": [
    {
     "name": "stdout",
     "output_type": "stream",
     "text": [
      "x=0\n",
      "x=1\n",
      "x=2\n"
     ]
    }
   ],
   "source": [
    "for x in range(3):\n",
    "    print(\"x=\" + str(x))"
   ]
  },
  {
   "cell_type": "code",
   "execution_count": 15,
   "id": "80f9b1b5",
   "metadata": {},
   "outputs": [
    {
     "name": "stdout",
     "output_type": "stream",
     "text": [
      "x=2\n",
      "x=2\n",
      "x=2\n"
     ]
    }
   ],
   "source": [
    "###break\n",
    "\n",
    "for X in range(3):\n",
    "    print(\"x=\" + str(x))\n",
    "    if x == 1:\n",
    "        break"
   ]
  },
  {
   "cell_type": "code",
   "execution_count": 17,
   "id": "02baa06a",
   "metadata": {},
   "outputs": [],
   "source": [
    "###continue\n",
    "\n",
    "for X in range(3, 0, -1):\n",
    "    if x % 2 == 0:\n",
    "        continue\n",
    "    print(x)"
   ]
  },
  {
   "cell_type": "code",
   "execution_count": null,
   "id": "6af1a953",
   "metadata": {},
   "outputs": [],
   "source": []
  }
 ],
 "metadata": {
  "kernelspec": {
   "display_name": "Python 3 (ipykernel)",
   "language": "python",
   "name": "python3"
  },
  "language_info": {
   "codemirror_mode": {
    "name": "ipython",
    "version": 3
   },
   "file_extension": ".py",
   "mimetype": "text/x-python",
   "name": "python",
   "nbconvert_exporter": "python",
   "pygments_lexer": "ipython3",
   "version": "3.9.12"
  }
 },
 "nbformat": 4,
 "nbformat_minor": 5
}
